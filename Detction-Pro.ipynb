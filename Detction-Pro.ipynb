{
 "cells": [
  {
   "cell_type": "markdown",
   "metadata": {},
   "source": [
    "Kaggle Challenge - Fraud Detection - BGU 2019"
   ]
  },
  {
   "cell_type": "markdown",
   "metadata": {},
   "source": [
    "(1) Load Data"
   ]
  },
  {
   "cell_type": "code",
   "execution_count": 1,
   "metadata": {},
   "outputs": [],
   "source": [
    "from utils import *\n",
    "dataset = pd.read_csv('../Detecting-Cyber-Attacks-Kaggle-Callenge/data/partial_labels.csv')\n",
    "x,segments = dataset.axes\n",
    "array = dataset.values\n",
    "results_df = pd.DataFrame(columns=[\"id\",\"label\"])"
   ]
  },
  {
   "cell_type": "markdown",
   "metadata": {},
   "source": [
    "(2) Pre-Processing"
   ]
  },
  {
   "cell_type": "code",
   "execution_count": 2,
   "metadata": {},
   "outputs": [],
   "source": [
    "testUser=10\n",
    "z = np.reshape(array[0,1:],-1)\n",
    "Y_train = z[0:50]\n",
    "Y_train = Y_train.astype(int)\n",
    "path_read = \"../Detecting-Cyber-Attacks-Kaggle-Callenge/data/FraudedRawData/User0\"\n",
    "all_instructions = pd.read_csv(path_read, sep=\" \", header=None)\n",
    "all_instructions = np.reshape(all_instructions.values,(150,100))\n",
    "\n",
    "    #all_instructions = np.concatenate((all_instructions, arr),axis=0)"
   ]
  },
  {
   "cell_type": "markdown",
   "metadata": {},
   "source": [
    "(3) Feature Engineering"
   ]
  },
  {
   "cell_type": "code",
   "execution_count": 3,
   "metadata": {},
   "outputs": [],
   "source": [
    "x_train = count_vec_usr = count_vec_all = []\n",
    "\n",
    "number_of_users = 40\n",
    "number_of_segments = 150\n",
    "number_of_users_with_full_information = 10\n",
    "\n",
    "for i in range( 150 ):\n",
    "    #If we are still in the first 10 users information\n",
    "    if(i < 50):\n",
    "        count_vec_usr.append(' '.join(all_instructions[i,:]))\n",
    "        \n",
    "    count_vec_all.append(' '.join(all_instructions[i,:]))\n",
    "\n",
    "vectorizer = TfidfVectorizer(min_df=0.4,ngram_range=(1,2))\n",
    "vectorizer.fit_transform(count_vec_all)\n",
    "\n",
    "X_all = vectorizer.transform(count_vec_all)\n",
    "X_all = X_all.toarray()\n",
    "X_usr = vectorizer.transform(count_vec_usr)\n",
    "X_usr = X_usr.toarray()\n",
    "\n",
    "#should add also for first 10 users - the rest of the segments\n",
    "unique = set()\n",
    "for i in range(50):\n",
    "    for j in range(100):\n",
    "        unique.add(all_instructions[i][j])\n",
    "    x_train.append([random.randint(0, 2)])\n",
    "    \n",
    "count = 0\n",
    "strange = []\n",
    "unique_check = set()\n",
    "\n",
    "for i in range(50,150):\n",
    "    for j in range(100):\n",
    "        unique_check.add(all_instructions[i][j])\n",
    "        if (all_instructions[i][j] not in unique):\n",
    "            count = count + 1\n",
    "    strange.append([count])\n",
    "    unique_check.clear()\n",
    "    count = 0"
   ]
  },
  {
   "cell_type": "markdown",
   "metadata": {},
   "source": [
    "(4) Model Fit & Predict"
   ]
  },
  {
   "cell_type": "code",
   "execution_count": 4,
   "metadata": {},
   "outputs": [
    {
     "ename": "ValueError",
     "evalue": "all the input arrays must have same number of dimensions",
     "output_type": "error",
     "traceback": [
      "\u001b[1;31m---------------------------------------------------------------------------\u001b[0m",
      "\u001b[1;31mValueError\u001b[0m                                Traceback (most recent call last)",
      "\u001b[1;32m<ipython-input-4-c7294b986611>\u001b[0m in \u001b[0;36m<module>\u001b[1;34m()\u001b[0m\n\u001b[1;32m----> 1\u001b[1;33m \u001b[0mx_test\u001b[0m\u001b[1;33m=\u001b[0m\u001b[0mnp\u001b[0m\u001b[1;33m.\u001b[0m\u001b[0mconcatenate\u001b[0m\u001b[1;33m(\u001b[0m\u001b[1;33m(\u001b[0m\u001b[0mx_train\u001b[0m\u001b[1;33m,\u001b[0m\u001b[0mstrange\u001b[0m\u001b[1;33m)\u001b[0m\u001b[1;33m)\u001b[0m\u001b[1;33m\u001b[0m\u001b[0m\n\u001b[0m\u001b[0;32m      2\u001b[0m \u001b[0mx_test\u001b[0m\u001b[1;33m=\u001b[0m\u001b[0mnp\u001b[0m\u001b[1;33m.\u001b[0m\u001b[0mc_\u001b[0m\u001b[1;33m[\u001b[0m\u001b[0mX_all\u001b[0m\u001b[1;33m,\u001b[0m\u001b[0mx_test\u001b[0m\u001b[1;33m]\u001b[0m\u001b[1;33m\u001b[0m\u001b[0m\n\u001b[0;32m      3\u001b[0m \u001b[0mx_train\u001b[0m\u001b[1;33m=\u001b[0m\u001b[0mnp\u001b[0m\u001b[1;33m.\u001b[0m\u001b[0mc_\u001b[0m\u001b[1;33m[\u001b[0m\u001b[0mX_usr\u001b[0m\u001b[1;33m,\u001b[0m\u001b[0mx_train\u001b[0m\u001b[1;33m]\u001b[0m\u001b[1;33m\u001b[0m\u001b[0m\n\u001b[0;32m      4\u001b[0m \u001b[0mclf\u001b[0m\u001b[1;33m=\u001b[0m \u001b[0mLocalOutlierFactor\u001b[0m\u001b[1;33m(\u001b[0m\u001b[0mn_neighbors\u001b[0m\u001b[1;33m=\u001b[0m\u001b[1;36m25\u001b[0m\u001b[1;33m,\u001b[0m\u001b[0mcontamination\u001b[0m\u001b[1;33m=\u001b[0m\u001b[1;36m0.1\u001b[0m\u001b[1;33m,\u001b[0m \u001b[0mnovelty\u001b[0m\u001b[1;33m=\u001b[0m\u001b[0mTrue\u001b[0m\u001b[1;33m)\u001b[0m\u001b[1;33m\u001b[0m\u001b[0m\n\u001b[0;32m      5\u001b[0m \u001b[0mclf\u001b[0m\u001b[1;33m.\u001b[0m\u001b[0mfit\u001b[0m\u001b[1;33m(\u001b[0m\u001b[0mx_train\u001b[0m\u001b[1;33m)\u001b[0m\u001b[1;33m\u001b[0m\u001b[0m\n",
      "\u001b[1;31mValueError\u001b[0m: all the input arrays must have same number of dimensions"
     ]
    }
   ],
   "source": [
    "x_test=np.concatenate((x_train,strange))\n",
    "x_test=np.c_[X_all,x_test]\n",
    "x_train=np.c_[X_usr,x_train]\n",
    "clf= LocalOutlierFactor(n_neighbors=25,contamination=0.1, novelty=True)\n",
    "clf.fit(x_train)\n",
    "t=clf.predict(x_test)\n",
    "t[t == 1] = 0\n",
    "t[t == -1] = 1\n"
   ]
  },
  {
   "cell_type": "markdown",
   "metadata": {},
   "source": [
    "(5) Push Results to Kaggle Challenge"
   ]
  },
  {
   "cell_type": "code",
   "execution_count": null,
   "metadata": {},
   "outputs": [],
   "source": [
    "curr_user_results = t[50:150]\n",
    "curr_user_results_df = pd.DataFrame(columns=[\"id\",\"label\"])\n",
    "\n",
    "start_rows = 5000\n",
    "till_rows = 5100\n",
    "\n",
    "for i in range(curr_user_results.size):\n",
    "    curr_user_results_df.loc[i] = [\"User{}_{}-{}\".format(testUser,start_rows,till_rows),curr_user_results[i]]\n",
    "    start_rows = start_rows + 100\n",
    "    till_rows = till_rows + 100\n",
    "results_df = results_df.append(curr_user_results_df)\n",
    "\n"
   ]
  },
  {
   "cell_type": "code",
   "execution_count": null,
   "metadata": {},
   "outputs": [],
   "source": [
    "fname = \"out/submission_results_{}.csv\".format(date.today())\n",
    "results_df.to_csv(fname, index=False)\n",
    "os.system('kaggle competitions submit -c detectingcyberattackscallenge -f \"{0}\" -m \"{1}\"'.format(fname, \"Submitting results to kaggle\"))"
   ]
  }
 ],
 "metadata": {
  "kernelspec": {
   "display_name": "Python 2",
   "language": "python",
   "name": "python2"
  },
  "language_info": {
   "codemirror_mode": {
    "name": "ipython",
    "version": 2
   },
   "file_extension": ".py",
   "mimetype": "text/x-python",
   "name": "python",
   "nbconvert_exporter": "python",
   "pygments_lexer": "ipython2",
   "version": "2.7.16"
  }
 },
 "nbformat": 4,
 "nbformat_minor": 2
}
